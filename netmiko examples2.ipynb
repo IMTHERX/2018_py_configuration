{
 "cells": [
  {
   "cell_type": "markdown",
   "metadata": {},
   "source": [
    "**现在让我们看一个有多个网络设备的例子。**\n",
    "\n",
    "**例2，在一组由不同厂商和平台组成的网络设备上执行“show arp”。**\n",
    "\n",
    "<img src=\"https://pynet.twb-tech.com/static/img/netmiko_show_arp.svg\" width=\"450\">\n",
    "\n",
    "**First, I need to define the networking devices (real IP addresses and passwords have been hidden):**"
   ]
  },
  {
   "cell_type": "code",
   "execution_count": 1,
   "metadata": {},
   "outputs": [],
   "source": [
    "from netmiko import ConnectHandler\n",
    "from datetime import datetime\n",
    "\n",
    "cisco_881 = {\n",
    "    'device_type': 'cisco_ios',\n",
    "    'ip':'192.168.123.22',\n",
    "    'username': 'cisco',\n",
    "    'password': 'cisco',\n",
    "    'port' : '22',          # optional, defaults to 22\n",
    "    'secret': 'enable',     # optional, defaults to ''\n",
    "    'verbose': False,       # optional, defaults to False\n",
    "}\n"
   ]
  },
  {
   "cell_type": "markdown",
   "metadata": {},
   "source": [
    "**Next, I need to create a Python list that includes all of these devices:**"
   ]
  },
  {
   "cell_type": "code",
   "execution_count": 2,
   "metadata": {
    "collapsed": true
   },
   "outputs": [],
   "source": [
    "all_devices = [cisco_881] "
   ]
  },
  {
   "cell_type": "markdown",
   "metadata": {},
   "source": [
    "**Now, I will create a for loop that iterates over all of these devices. Each time through the loop: the code will connect to the device, execute the 'show arp' command, and then display the output. I will also keep track of the time that it takes for the code execute.**\n",
    "\n",
    "**注意，我已经从arp输出中删除了几个公共IP地址。另外，我稍微改变了输出（这样您就可以更清楚地看到我粘贴的内容和从设备返回的输出）。**"
   ]
  },
  {
   "cell_type": "code",
   "execution_count": 8,
   "metadata": {},
   "outputs": [
    {
     "name": "stdout",
     "output_type": "stream",
     "text": [
      "开始时间: 2018-06-10 17:40:05.198645\n",
      "\n",
      "\n",
      ">>>>>>>>>Device cisco_ios <<<<<<<<<\n",
      "Protocol  Address          Age (min)  Hardware Addr   Type   Interface\n",
      "Internet  1.1.1.2                 -   aabb.cc00.2010  ARPA   Ethernet0/1\n",
      "Internet  192.168.123.1           1   747d.24fd.beb5  ARPA   Ethernet0/0\n",
      "Internet  192.168.123.22          -   aabb.cc00.2000  ARPA   Ethernet0/0\n",
      "Internet  192.168.123.222         5   b4b6.76b0.80c4  ARPA   Ethernet0/0\n",
      ">>>>>>>>> End <<<<<<<<<\n",
      "结束时间: 2018-06-10 17:40:10.618251\n",
      "总计耗时: 0:00:05.419606\n"
     ]
    }
   ],
   "source": [
    "start_time = datetime.now()\n",
    "print(\"开始时间:\",start_time)\n",
    "for a_device in all_devices:\n",
    "    net_connect = ConnectHandler(**a_device)\n",
    "    output = net_connect.send_command(\"show arp\")\n",
    "    print (\"\\n\\n>>>>>>>>>Device {0} <<<<<<<<<\".format(a_device['device_type']))\n",
    "    print (output)\n",
    "    print (\">>>>>>>>> End <<<<<<<<<\")\n",
    "end_time= datetime.now()\n",
    "print(\"结束时间:\",end_time)\n",
    "print(\"总计耗时:\",end_time - start_time)"
   ]
  },
  {
   "cell_type": "markdown",
   "metadata": {},
   "source": [
    "一些Netmiko的方法，通常是你可以使用的：\n",
    "\n",
    "net_connect.config_mode() -- 进入特权模式\n",
    "\n",
    "net_connect.check_config_mode() -- 对比配置,返回一个布尔值\n",
    "\n",
    "net_connect.exit_config_mode() -- 退出特权模式\n",
    "\n",
    "net_connect.clear_buffer() -- Clear the output buffer on the remote device\n",
    "\n",
    "net_connect.enable() -- 进入#模式\n",
    "\n",
    "net_connect.exit_enable_mode() -- 退出#模式,进入>模式\n",
    "\n",
    "net_connect.find_prompt() -- 返回当前路由器提示符\n",
    "\n",
    "net_connect.commit(arguments) -- 在Juniper和IOS-XR上执行commit操作\n",
    "\n",
    "net_connect.disconnect() -- Close the SSH connection\n",
    "\n",
    "net_connect.send_command(arguments) -- Send command down the SSH channel, return output back\n",
    "\n",
    "net_connect.send_config_set(arguments) -- Send a set of configuration commands to remote device\n",
    "\n",
    "net_connect.send_config_from_file(arguments) -- Send a set of configuration commands loaded from a file\n",
    "\n",
    "注意，如果需要参数或相当常见的参数，我在上述方法中指定了“参数”。其他一些方法也支持参数，但通常不需要它们。\n",
    "如果您想了解更多关于网络自动化、Python和可接受的信息，那么请加入我的电子邮件列表。我还定期为网络工程师的电子邮件课程运行一个免费的Python，您可以在这里注册https://pynet.twb-tech.com/email-signup.html。"
   ]
  },
  {
   "cell_type": "code",
   "execution_count": 9,
   "metadata": {
    "collapsed": true
   },
   "outputs": [],
   "source": [
    "?net_connect.disconnect()"
   ]
  }
 ],
 "metadata": {
  "kernelspec": {
   "display_name": "Python 3",
   "language": "python",
   "name": "python3"
  },
  "language_info": {
   "codemirror_mode": {
    "name": "ipython",
    "version": 3
   },
   "file_extension": ".py",
   "mimetype": "text/x-python",
   "name": "python",
   "nbconvert_exporter": "python",
   "pygments_lexer": "ipython3",
   "version": "3.6.3"
  }
 },
 "nbformat": 4,
 "nbformat_minor": 2
}
