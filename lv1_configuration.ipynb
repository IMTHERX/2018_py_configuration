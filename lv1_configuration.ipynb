{
 "cells": [
  {
   "cell_type": "code",
   "execution_count": 1,
   "metadata": {},
   "outputs": [
    {
     "name": "stdout",
     "output_type": "stream",
     "text": [
      "Interface                  IP-Address      OK? Method Status                Protocol\n",
      "Ethernet0/0                192.168.123.22  YES NVRAM  up                    up      \n",
      "Ethernet0/1                1.1.1.2         YES NVRAM  up                    up      \n",
      "Ethernet0/2                unassigned      YES NVRAM  administratively down down    \n",
      "Ethernet0/3                unassigned      YES NVRAM  administratively down down    \n",
      "Loopback0                  2.2.2.2         YES manual administratively down down    \n",
      "config term\n",
      "Enter configuration commands, one per line.  End with CNTL/Z.\n",
      "r1(config)#int lo 0\n",
      "r1(config-if)#ip add 2.2.2.2 255.255.255.255\n",
      "r1(config-if)#no sh\n",
      "r1(config-if)#sh\n",
      "r1(config-if)#end\n",
      "r1#\n"
     ]
    }
   ],
   "source": [
    "from netmiko import ConnectHandler\n",
    "#创建一个表示设备的字典。\n",
    "cisco = {    'device_type': 'cisco_ios',\n",
    "    'ip':'192.168.123.22',\n",
    "    'username': 'cisco',\n",
    "    'password': 'cisco',\n",
    "    'port' : '22',          # optional, defaults to 22\n",
    "    'secret': 'enable',     # optional, defaults to ''\n",
    "    'verbose': False,       # optional, defaults to False\n",
    "}\n",
    "#ssh\n",
    "net_connect = ConnectHandler(**cisco)\n",
    "\n",
    "#需要查看的信息\n",
    "command_man=\"sh ip int brief\"\n",
    "output = net_connect.send_command(command_man)\n",
    "print(output)\n",
    "\n",
    "#对于长时间运行的命令，请使用send_command_expect()\n",
    "#send_command_expect 等待尾随提示符（或可选模式）\n",
    "net_connect.send_command_expect('write memory')\n",
    "\n",
    "#执行配置变更命令（将自动进入配置模式）\n",
    "config_commands = [ 'int lo 0',\n",
    "                    'ip add 2.2.2.2 255.255.255.255',\n",
    "                    'no sh',\n",
    "                    'sh']\n",
    "output = net_connect.send_config_set(config_commands)\n",
    "print(output)\n",
    "\n"
   ]
  },
  {
   "cell_type": "code",
   "execution_count": null,
   "metadata": {
    "collapsed": true
   },
   "outputs": [],
   "source": []
  },
  {
   "cell_type": "code",
   "execution_count": 2,
   "metadata": {
    "collapsed": true
   },
   "outputs": [],
   "source": [
    "net_connect.disconnect()"
   ]
  },
  {
   "cell_type": "code",
   "execution_count": 16,
   "metadata": {
    "scrolled": true
   },
   "outputs": [
    {
     "ename": "AttributeError",
     "evalue": "'NoneType' object has no attribute 'sendall'",
     "output_type": "error",
     "traceback": [
      "\u001b[1;31m---------------------------------------------------------------------------\u001b[0m",
      "\u001b[1;31mAttributeError\u001b[0m                            Traceback (most recent call last)",
      "\u001b[1;32m<ipython-input-16-bfa58ab3bbb2>\u001b[0m in \u001b[0;36m<module>\u001b[1;34m()\u001b[0m\n\u001b[0;32m      4\u001b[0m                     'sh']\n\u001b[0;32m      5\u001b[0m \u001b[0mcommand_man\u001b[0m\u001b[1;33m=\u001b[0m\u001b[1;34m\"sh ip int brief\"\u001b[0m\u001b[1;33m\u001b[0m\u001b[0m\n\u001b[1;32m----> 6\u001b[1;33m \u001b[0moutput\u001b[0m \u001b[1;33m=\u001b[0m \u001b[0mnet_connect\u001b[0m\u001b[1;33m.\u001b[0m\u001b[0msend_config_set\u001b[0m\u001b[1;33m(\u001b[0m\u001b[0mconfig_commands\u001b[0m\u001b[1;33m)\u001b[0m\u001b[1;33m\u001b[0m\u001b[0m\n\u001b[0m\u001b[0;32m      7\u001b[0m \u001b[0mprint\u001b[0m\u001b[1;33m(\u001b[0m\u001b[0moutput\u001b[0m\u001b[1;33m)\u001b[0m\u001b[1;33m\u001b[0m\u001b[0m\n\u001b[0;32m      8\u001b[0m \u001b[0moutput\u001b[0m \u001b[1;33m=\u001b[0m \u001b[0mnet_connect\u001b[0m\u001b[1;33m.\u001b[0m\u001b[0msend_command\u001b[0m\u001b[1;33m(\u001b[0m\u001b[0mcommand_man\u001b[0m\u001b[1;33m)\u001b[0m\u001b[1;33m\u001b[0m\u001b[0m\n",
      "\u001b[1;32m~\\Anaconda3\\lib\\site-packages\\netmiko\\base_connection.py\u001b[0m in \u001b[0;36msend_config_set\u001b[1;34m(self, config_commands, exit_config_mode, delay_factor, max_loops, strip_prompt, strip_command, config_mode_command)\u001b[0m\n\u001b[0;32m   1290\u001b[0m         \u001b[1;31m# Send config commands\u001b[0m\u001b[1;33m\u001b[0m\u001b[1;33m\u001b[0m\u001b[0m\n\u001b[0;32m   1291\u001b[0m         \u001b[0mcfg_mode_args\u001b[0m \u001b[1;33m=\u001b[0m \u001b[1;33m(\u001b[0m\u001b[0mconfig_mode_command\u001b[0m\u001b[1;33m,\u001b[0m\u001b[1;33m)\u001b[0m \u001b[1;32mif\u001b[0m \u001b[0mconfig_mode_command\u001b[0m \u001b[1;32melse\u001b[0m \u001b[0mtuple\u001b[0m\u001b[1;33m(\u001b[0m\u001b[1;33m)\u001b[0m\u001b[1;33m\u001b[0m\u001b[0m\n\u001b[1;32m-> 1292\u001b[1;33m         \u001b[0moutput\u001b[0m \u001b[1;33m=\u001b[0m \u001b[0mself\u001b[0m\u001b[1;33m.\u001b[0m\u001b[0mconfig_mode\u001b[0m\u001b[1;33m(\u001b[0m\u001b[1;33m*\u001b[0m\u001b[0mcfg_mode_args\u001b[0m\u001b[1;33m)\u001b[0m\u001b[1;33m\u001b[0m\u001b[0m\n\u001b[0m\u001b[0;32m   1293\u001b[0m         \u001b[1;32mfor\u001b[0m \u001b[0mcmd\u001b[0m \u001b[1;32min\u001b[0m \u001b[0mconfig_commands\u001b[0m\u001b[1;33m:\u001b[0m\u001b[1;33m\u001b[0m\u001b[0m\n\u001b[0;32m   1294\u001b[0m             \u001b[0mself\u001b[0m\u001b[1;33m.\u001b[0m\u001b[0mwrite_channel\u001b[0m\u001b[1;33m(\u001b[0m\u001b[0mself\u001b[0m\u001b[1;33m.\u001b[0m\u001b[0mnormalize_cmd\u001b[0m\u001b[1;33m(\u001b[0m\u001b[0mcmd\u001b[0m\u001b[1;33m)\u001b[0m\u001b[1;33m)\u001b[0m\u001b[1;33m\u001b[0m\u001b[0m\n",
      "\u001b[1;32m~\\Anaconda3\\lib\\site-packages\\netmiko\\cisco_base_connection.py\u001b[0m in \u001b[0;36mconfig_mode\u001b[1;34m(self, config_command, pattern)\u001b[0m\n\u001b[0;32m     40\u001b[0m             \u001b[0mpattern\u001b[0m \u001b[1;33m=\u001b[0m \u001b[0mre\u001b[0m\u001b[1;33m.\u001b[0m\u001b[0mescape\u001b[0m\u001b[1;33m(\u001b[0m\u001b[0mself\u001b[0m\u001b[1;33m.\u001b[0m\u001b[0mbase_prompt\u001b[0m\u001b[1;33m[\u001b[0m\u001b[1;33m:\u001b[0m\u001b[1;36m16\u001b[0m\u001b[1;33m]\u001b[0m\u001b[1;33m)\u001b[0m\u001b[1;33m\u001b[0m\u001b[0m\n\u001b[0;32m     41\u001b[0m         return super(CiscoBaseConnection, self).config_mode(config_command=config_command,\n\u001b[1;32m---> 42\u001b[1;33m                                                             pattern=pattern)\n\u001b[0m\u001b[0;32m     43\u001b[0m \u001b[1;33m\u001b[0m\u001b[0m\n\u001b[0;32m     44\u001b[0m     \u001b[1;32mdef\u001b[0m \u001b[0mexit_config_mode\u001b[0m\u001b[1;33m(\u001b[0m\u001b[0mself\u001b[0m\u001b[1;33m,\u001b[0m \u001b[0mexit_config\u001b[0m\u001b[1;33m=\u001b[0m\u001b[1;34m'end'\u001b[0m\u001b[1;33m,\u001b[0m \u001b[0mpattern\u001b[0m\u001b[1;33m=\u001b[0m\u001b[1;34m''\u001b[0m\u001b[1;33m)\u001b[0m\u001b[1;33m:\u001b[0m\u001b[1;33m\u001b[0m\u001b[0m\n",
      "\u001b[1;32m~\\Anaconda3\\lib\\site-packages\\netmiko\\base_connection.py\u001b[0m in \u001b[0;36mconfig_mode\u001b[1;34m(self, config_command, pattern)\u001b[0m\n\u001b[0;32m   1204\u001b[0m         \"\"\"\n\u001b[0;32m   1205\u001b[0m         \u001b[0moutput\u001b[0m \u001b[1;33m=\u001b[0m \u001b[1;34m''\u001b[0m\u001b[1;33m\u001b[0m\u001b[0m\n\u001b[1;32m-> 1206\u001b[1;33m         \u001b[1;32mif\u001b[0m \u001b[1;32mnot\u001b[0m \u001b[0mself\u001b[0m\u001b[1;33m.\u001b[0m\u001b[0mcheck_config_mode\u001b[0m\u001b[1;33m(\u001b[0m\u001b[1;33m)\u001b[0m\u001b[1;33m:\u001b[0m\u001b[1;33m\u001b[0m\u001b[0m\n\u001b[0m\u001b[0;32m   1207\u001b[0m             \u001b[0mself\u001b[0m\u001b[1;33m.\u001b[0m\u001b[0mwrite_channel\u001b[0m\u001b[1;33m(\u001b[0m\u001b[0mself\u001b[0m\u001b[1;33m.\u001b[0m\u001b[0mnormalize_cmd\u001b[0m\u001b[1;33m(\u001b[0m\u001b[0mconfig_command\u001b[0m\u001b[1;33m)\u001b[0m\u001b[1;33m)\u001b[0m\u001b[1;33m\u001b[0m\u001b[0m\n\u001b[0;32m   1208\u001b[0m             \u001b[0moutput\u001b[0m \u001b[1;33m=\u001b[0m \u001b[0mself\u001b[0m\u001b[1;33m.\u001b[0m\u001b[0mread_until_pattern\u001b[0m\u001b[1;33m(\u001b[0m\u001b[0mpattern\u001b[0m\u001b[1;33m=\u001b[0m\u001b[0mpattern\u001b[0m\u001b[1;33m)\u001b[0m\u001b[1;33m\u001b[0m\u001b[0m\n",
      "\u001b[1;32m~\\Anaconda3\\lib\\site-packages\\netmiko\\cisco_base_connection.py\u001b[0m in \u001b[0;36mcheck_config_mode\u001b[1;34m(self, check_string, pattern)\u001b[0m\n\u001b[0;32m     29\u001b[0m         \"\"\"\n\u001b[0;32m     30\u001b[0m         return super(CiscoBaseConnection, self).check_config_mode(check_string=check_string,\n\u001b[1;32m---> 31\u001b[1;33m                                                                   pattern=pattern)\n\u001b[0m\u001b[0;32m     32\u001b[0m \u001b[1;33m\u001b[0m\u001b[0m\n\u001b[0;32m     33\u001b[0m     \u001b[1;32mdef\u001b[0m \u001b[0mconfig_mode\u001b[0m\u001b[1;33m(\u001b[0m\u001b[0mself\u001b[0m\u001b[1;33m,\u001b[0m \u001b[0mconfig_command\u001b[0m\u001b[1;33m=\u001b[0m\u001b[1;34m'config term'\u001b[0m\u001b[1;33m,\u001b[0m \u001b[0mpattern\u001b[0m\u001b[1;33m=\u001b[0m\u001b[1;34m''\u001b[0m\u001b[1;33m)\u001b[0m\u001b[1;33m:\u001b[0m\u001b[1;33m\u001b[0m\u001b[0m\n",
      "\u001b[1;32m~\\Anaconda3\\lib\\site-packages\\netmiko\\base_connection.py\u001b[0m in \u001b[0;36mcheck_config_mode\u001b[1;34m(self, check_string, pattern)\u001b[0m\n\u001b[0;32m   1186\u001b[0m         \u001b[1;33m:\u001b[0m\u001b[0mtype\u001b[0m \u001b[0mpattern\u001b[0m\u001b[1;33m:\u001b[0m \u001b[0mstr\u001b[0m\u001b[1;33m\u001b[0m\u001b[0m\n\u001b[0;32m   1187\u001b[0m         \"\"\"\n\u001b[1;32m-> 1188\u001b[1;33m         \u001b[0mself\u001b[0m\u001b[1;33m.\u001b[0m\u001b[0mwrite_channel\u001b[0m\u001b[1;33m(\u001b[0m\u001b[0mself\u001b[0m\u001b[1;33m.\u001b[0m\u001b[0mRETURN\u001b[0m\u001b[1;33m)\u001b[0m\u001b[1;33m\u001b[0m\u001b[0m\n\u001b[0m\u001b[0;32m   1189\u001b[0m         \u001b[1;31m# You can encounter an issue here (on router name changes) prefer delay-based solution\u001b[0m\u001b[1;33m\u001b[0m\u001b[1;33m\u001b[0m\u001b[0m\n\u001b[0;32m   1190\u001b[0m         \u001b[1;32mif\u001b[0m \u001b[1;32mnot\u001b[0m \u001b[0mpattern\u001b[0m\u001b[1;33m:\u001b[0m\u001b[1;33m\u001b[0m\u001b[0m\n",
      "\u001b[1;32m~\\Anaconda3\\lib\\site-packages\\netmiko\\base_connection.py\u001b[0m in \u001b[0;36mwrite_channel\u001b[1;34m(self, out_data)\u001b[0m\n\u001b[0;32m    288\u001b[0m         \u001b[0mself\u001b[0m\u001b[1;33m.\u001b[0m\u001b[0m_lock_netmiko_session\u001b[0m\u001b[1;33m(\u001b[0m\u001b[1;33m)\u001b[0m\u001b[1;33m\u001b[0m\u001b[0m\n\u001b[0;32m    289\u001b[0m         \u001b[1;32mtry\u001b[0m\u001b[1;33m:\u001b[0m\u001b[1;33m\u001b[0m\u001b[0m\n\u001b[1;32m--> 290\u001b[1;33m             \u001b[0mself\u001b[0m\u001b[1;33m.\u001b[0m\u001b[0m_write_channel\u001b[0m\u001b[1;33m(\u001b[0m\u001b[0mout_data\u001b[0m\u001b[1;33m)\u001b[0m\u001b[1;33m\u001b[0m\u001b[0m\n\u001b[0m\u001b[0;32m    291\u001b[0m         \u001b[1;32mfinally\u001b[0m\u001b[1;33m:\u001b[0m\u001b[1;33m\u001b[0m\u001b[0m\n\u001b[0;32m    292\u001b[0m             \u001b[1;31m# Always unlock the SSH channel, even on exception.\u001b[0m\u001b[1;33m\u001b[0m\u001b[1;33m\u001b[0m\u001b[0m\n",
      "\u001b[1;32m~\\Anaconda3\\lib\\site-packages\\netmiko\\base_connection.py\u001b[0m in \u001b[0;36m_write_channel\u001b[1;34m(self, out_data)\u001b[0m\n\u001b[0;32m    266\u001b[0m         \"\"\"\n\u001b[0;32m    267\u001b[0m         \u001b[1;32mif\u001b[0m \u001b[0mself\u001b[0m\u001b[1;33m.\u001b[0m\u001b[0mprotocol\u001b[0m \u001b[1;33m==\u001b[0m \u001b[1;34m'ssh'\u001b[0m\u001b[1;33m:\u001b[0m\u001b[1;33m\u001b[0m\u001b[0m\n\u001b[1;32m--> 268\u001b[1;33m             \u001b[0mself\u001b[0m\u001b[1;33m.\u001b[0m\u001b[0mremote_conn\u001b[0m\u001b[1;33m.\u001b[0m\u001b[0msendall\u001b[0m\u001b[1;33m(\u001b[0m\u001b[0mwrite_bytes\u001b[0m\u001b[1;33m(\u001b[0m\u001b[0mout_data\u001b[0m\u001b[1;33m)\u001b[0m\u001b[1;33m)\u001b[0m\u001b[1;33m\u001b[0m\u001b[0m\n\u001b[0m\u001b[0;32m    269\u001b[0m         \u001b[1;32melif\u001b[0m \u001b[0mself\u001b[0m\u001b[1;33m.\u001b[0m\u001b[0mprotocol\u001b[0m \u001b[1;33m==\u001b[0m \u001b[1;34m'telnet'\u001b[0m\u001b[1;33m:\u001b[0m\u001b[1;33m\u001b[0m\u001b[0m\n\u001b[0;32m    270\u001b[0m             \u001b[0mself\u001b[0m\u001b[1;33m.\u001b[0m\u001b[0mremote_conn\u001b[0m\u001b[1;33m.\u001b[0m\u001b[0mwrite\u001b[0m\u001b[1;33m(\u001b[0m\u001b[0mwrite_bytes\u001b[0m\u001b[1;33m(\u001b[0m\u001b[0mout_data\u001b[0m\u001b[1;33m)\u001b[0m\u001b[1;33m)\u001b[0m\u001b[1;33m\u001b[0m\u001b[0m\n",
      "\u001b[1;31mAttributeError\u001b[0m: 'NoneType' object has no attribute 'sendall'"
     ]
    }
   ],
   "source": [
    "config_commands = [ 'int lo 0',\n",
    "                    'ip add 3.3.3.3 255.255.255.255',\n",
    "                    'no sh',\n",
    "                    'sh']\n",
    "command_man=\"sh ip int brief\"\n",
    "output = net_connect.send_config_set(config_commands)\n",
    "print(output)\n",
    "output = net_connect.send_command(command_man)\n",
    "print(output)"
   ]
  },
  {
   "cell_type": "code",
   "execution_count": 3,
   "metadata": {},
   "outputs": [
    {
     "data": {
      "text/plain": [
       "{'device_type': 'cisco_ios',\n",
       " 'ip': '192.168.123.22',\n",
       " 'password': 'cisco',\n",
       " 'port': '22',\n",
       " 'secret': 'enable',\n",
       " 'username': 'cisco',\n",
       " 'verbose': False}"
      ]
     },
     "execution_count": 3,
     "metadata": {},
     "output_type": "execute_result"
    }
   ],
   "source": [
    "cisco = {    'device_type': 'cisco_ios',\n",
    "    'ip':'192.168.123.22',\n",
    "    'username': 'cisco',\n",
    "    'password': 'cisco',\n",
    "    'port' : '22',          # optional, defaults to 22\n",
    "    'secret': 'enable',     # optional, defaults to ''\n",
    "    'verbose': False,       # optional, defaults to False\n",
    "}\n",
    "cisco"
   ]
  }
 ],
 "metadata": {
  "kernelspec": {
   "display_name": "Python 3",
   "language": "python",
   "name": "python3"
  },
  "language_info": {
   "codemirror_mode": {
    "name": "ipython",
    "version": 3
   },
   "file_extension": ".py",
   "mimetype": "text/x-python",
   "name": "python",
   "nbconvert_exporter": "python",
   "pygments_lexer": "ipython3",
   "version": "3.6.3"
  }
 },
 "nbformat": 4,
 "nbformat_minor": 2
}
