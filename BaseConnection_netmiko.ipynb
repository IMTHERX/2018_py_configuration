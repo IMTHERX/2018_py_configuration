{
 "cells": [
  {
   "cell_type": "code",
   "execution_count": 14,
   "metadata": {
    "collapsed": true
   },
   "outputs": [],
   "source": [
    "import csv"
   ]
  },
  {
   "cell_type": "code",
   "execution_count": 15,
   "metadata": {
    "scrolled": false
   },
   "outputs": [
    {
     "name": "stdout",
     "output_type": "stream",
     "text": [
      "3 ['id', '中转ID', 'IP地址', '跳转端口\\n（source-interface）', '协议类型\\n（ssh22/telnet21）', 'OS', '用户名', '密码', 'enable密码', '延时', 'verbose']\n",
      "4 ['1', '', '192.168.123.22', '', '22', 'cisco_ios', 'cisco', 'cisco', 'enable', '', 'FALSE']\n",
      "5 ['', '1', '192.168.123.23', '', '22', 'cisco_ios', 'cisco', 'cisco', 'enable', '', 'FALSE']\n"
     ]
    }
   ],
   "source": [
    "filename = 'test.csv'\n",
    "with open(filename) as f:    \n",
    "    reader = csv.reader(f)\n",
    "    for row in reader:\n",
    "        print(reader.line_num, row)"
   ]
  },
  {
   "cell_type": "markdown",
   "metadata": {},
   "source": [
    "**前面的数字是行号，从1开始，可以用reader.line_num获取。**\n",
    "\n",
    "**要注意的是，reader只能被遍历一次。由于reader是可迭代对象，可以使用next方法一次获取一行。**"
   ]
  },
  {
   "cell_type": "code",
   "execution_count": 10,
   "metadata": {
    "collapsed": true
   },
   "outputs": [],
   "source": [
    "import csv\n",
    "from netmiko import ConnectHandler\n",
    "from datetime import datetime\n",
    "\n",
    "filename = 'test.csv'#路径文件名\n"
   ]
  },
  {
   "cell_type": "code",
   "execution_count": 12,
   "metadata": {},
   "outputs": [],
   "source": [
    "#读取file\n",
    "allunit_list = [] #设备list\n",
    "with open(filename) as f:\n",
    "    reader = csv.reader(f)\n",
    "    for row in reader:\n",
    "        allunit_list = [reader.line_num, row]\n"
   ]
  },
  {
   "cell_type": "markdown",
   "metadata": {},
   "source": [
    "cisco_881 = {\n",
    "    'device_type': 'cisco_ios',\n",
    "    'ip':'192.168.123.22',\n",
    "    'username': 'cisco',\n",
    "    'password': 'cisco',\n",
    "    'port' : '22',          # optional, defaults to 22\n",
    "    'secret': 'enable',     # optional, defaults to ''\n",
    "    'verbose': False,       # optional, defaults to False\n",
    "}"
   ]
  },
  {
   "cell_type": "code",
   "execution_count": 16,
   "metadata": {},
   "outputs": [
    {
     "ename": "SyntaxError",
     "evalue": "invalid syntax (<ipython-input-16-5963e9b4bb16>, line 1)",
     "output_type": "error",
     "traceback": [
      "\u001b[1;36m  File \u001b[1;32m\"<ipython-input-16-5963e9b4bb16>\"\u001b[1;36m, line \u001b[1;32m1\u001b[0m\n\u001b[1;33m    for i in rangge(0,len(allunit_list)+1)\u001b[0m\n\u001b[1;37m                                          ^\u001b[0m\n\u001b[1;31mSyntaxError\u001b[0m\u001b[1;31m:\u001b[0m invalid syntax\n"
     ]
    }
   ],
   "source": [
    "for i in rangge(0,len(allunit_list)+1)\n",
    "    unit{0} = {\n",
    "        'device_type': 'cisco_ios',\n",
    "        'ip':'192.168.123.22',\n",
    "        'username': 'cisco',\n",
    "        'password': 'cisco',\n",
    "        'port' : '22',          # optional, defaults to 22\n",
    "        'secret': 'enable',     # optional, defaults to ''\n",
    "        'verbose': False,       # optional, defaults to False\n",
    "        }"
   ]
  }
 ],
 "metadata": {
  "kernelspec": {
   "display_name": "Python 3",
   "language": "python",
   "name": "python3"
  },
  "language_info": {
   "codemirror_mode": {
    "name": "ipython",
    "version": 3
   },
   "file_extension": ".py",
   "mimetype": "text/x-python",
   "name": "python",
   "nbconvert_exporter": "python",
   "pygments_lexer": "ipython3",
   "version": "3.6.3"
  }
 },
 "nbformat": 4,
 "nbformat_minor": 2
}
