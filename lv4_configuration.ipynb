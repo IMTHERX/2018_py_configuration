{
 "cells": [
  {
   "cell_type": "markdown",
   "metadata": {},
   "source": [
    "**1需要增加输出log功能**\n",
    "\n",
    "**2目前效率很低,** \n",
    "\n",
    "**3增加command功能**\n"
   ]
  },
  {
   "cell_type": "code",
   "execution_count": 15,
   "metadata": {
    "scrolled": true
   },
   "outputs": [
    {
     "name": "stdout",
     "output_type": "stream",
     "text": [
      "\n",
      "\n",
      "开始时间: 2018-06-11 20:29:18.971869\n",
      ">>>>>>>>>ip 192.168.123.22 <<<<<<<<<\n",
      "Interface                  IP-Address      OK? Method Status                Protocol\n",
      "Ethernet0/0                192.168.123.22  YES NVRAM  up                    up      \n",
      "Ethernet0/1                1.1.1.2         YES NVRAM  up                    up      \n",
      "Ethernet0/2                unassigned      YES NVRAM  administratively down down    \n",
      "Ethernet0/3                unassigned      YES NVRAM  administratively down down    \n",
      "Loopback0                  2.2.2.2         YES manual administratively down down    \n",
      ">>>>>>>>> End <<<<<<<<<结束时间: 2018-06-11 20:29:24.237377\n",
      "\n",
      "\n",
      "开始时间: 2018-06-11 20:29:26.438837\n",
      ">>>>>>>>>ip 192.168.123.23 <<<<<<<<<\n",
      "Interface              IP-Address      OK? Method Status                Protocol\n",
      "Ethernet0/0            unassigned      YES unset  up                    up      \n",
      "Ethernet0/1            unassigned      YES unset  up                    up      \n",
      "Ethernet0/2            unassigned      YES unset  up                    up      \n",
      "Ethernet0/3            unassigned      YES unset  up                    up      \n",
      "Vlan1                  192.168.123.23  YES NVRAM  up                    up      \n",
      ">>>>>>>>> End <<<<<<<<<结束时间: 2018-06-11 20:29:31.688334\n",
      "总计耗时: 0:00:14.919925\n"
     ]
    }
   ],
   "source": [
    "from netmiko import ConnectHandler\n",
    "from datetime import datetime\n",
    "import os\n",
    "import time\n",
    "import csv\n",
    "a_command=[\"sh ip int brief\"]\n",
    "#LogTimestart = time.strftime('%Y/%m/%d %H:%M:%S')\n",
    "filename = \"test.csv\"\n",
    "a_start_time = datetime.now()  \n",
    "#for循环中,直接sshfilename = 'test.csv'\n",
    "with open(filename) as f:    \n",
    "    reader = csv.reader(f)\n",
    "    head_row = next(reader) #从第一行开始输出\n",
    "    for row in reader: \n",
    "        start_time = datetime.now()     \n",
    "        #print(row)\n",
    "        a_device=[]\n",
    "        info_dict={'device_type':str(row[5]),\n",
    "                   'ip':str(row[2]),\n",
    "                   'username':str(row[6]),\n",
    "                   'password':str(row[7]),\n",
    "                   'port':str(row[4]),\n",
    "                   'secret':str(row[8]),} \n",
    "        #print(info_dict) 你 \n",
    "        net_connect = ConnectHandler(**info_dict)\n",
    "        for command in a_command:\n",
    "            output = net_connect.send_command(str(command))\n",
    "            e_end_time = datetime.now() \n",
    "            print (\"\\n\\n开始时间:\",str(start_time))\n",
    "            print (\">>>>>>>>>ip {0} <<<<<<<<<\".format(info_dict['ip']))\n",
    "            print (output)\n",
    "            print (\">>>>>>>>> End <<<<<<<<<\"+\"结束时间:\",str(e_end_time))\n",
    "            net_connect.disconnect()\n",
    "    f.close()\n",
    "e_end_time = datetime.now() \n",
    "print(\"总计耗时:\",e_end_time - a_start_time)"
   ]
  },
  {
   "cell_type": "markdown",
   "metadata": {},
   "source": [
    "**尝试修复读取列表的bug**    失败\n",
    "\n",
    "**3增加command功能**   勉强成功"
   ]
  },
  {
   "cell_type": "code",
   "execution_count": null,
   "metadata": {
    "collapsed": true
   },
   "outputs": [],
   "source": [
    "with open(commands_info) as config_command:\n",
    "            config_commands=[]\n",
    "            config_commands_reader = csv.reader(config_command)\n",
    "\n",
    "commands_info = \"test_commands.csv\""
   ]
  },
  {
   "cell_type": "code",
   "execution_count": 82,
   "metadata": {
    "collapsed": true
   },
   "outputs": [],
   "source": [
    "\n"
   ]
  },
  {
   "cell_type": "code",
   "execution_count": 96,
   "metadata": {},
   "outputs": [
    {
     "name": "stdout",
     "output_type": "stream",
     "text": [
      "SSH connection established to 192.168.123.22:22\n",
      "Interactive SSH session established\n",
      "config term\n",
      "Enter configuration commands, one per line.  End with CNTL/Z.\n",
      "r1(config)#exit\n",
      "r1#sh ip int brief\n",
      "Interface                  IP-Address      OK? Method Status                Protocol\n",
      "Ethernet0/0                192.168.123.22  YES NVRAM  up                    up      \n",
      "Ethernet0/1                1.1.1.2         YES NVRAM  up                    up      \n",
      "Ethernet0/2                unassigned      YES NVRAM  administratively down down    \n",
      "Ethernet0/3                unassigned      YES NVRAM  administratively down down    \n",
      "Loopback0                  2.2.2.2         YES manual administratively down down    \n",
      "r1#sh line\n",
      "   Tty Typ     Tx/Rx    A Modem  Roty AccO AccI   Uses   Noise  Overruns   Int\n",
      "      0 CTY              -    -      -    -    -      0       0     0/0       -\n",
      "      1 AUX   9600/9600  -    -      -    -    -      0       0     0/0       -\n",
      "*     2 VTY              -    -      -    -    -     64       0     0/0       -\n",
      "      3 VTY              -    -      -    -    -     46       0     0/0       -\n",
      "      4 VTY              -    -      -    -    -     15       0     0/0       -\n",
      "      5 VTY              -    -      -    -    -     13       0     0/0       -\n",
      "      6 VTY              -    -      -    -    -      9       0     0/0       -\n",
      "\n",
      "r1#\n",
      "SSH connection established to 192.168.123.23:22\n",
      "Interactive SSH session established\n",
      "config term\n",
      "Enter configuration commands, one per line.  End with CNTL/Z.\n",
      "Switch(config)#exit\n",
      "Switch#sh ip int brief\n",
      "Interface              IP-Address      OK? Method Status                Protocol\n",
      "Ethernet0/0            unassigned      YES unset  up                    up      \n",
      "Ethernet0/1            unassigned      YES unset  up                    up      \n",
      "Ethernet0/2            unassigned      YES unset  up                    up      \n",
      "Ethernet0/3            unassigned      YES unset  up                    up      \n",
      "Vlan1                  192.168.123.23  YES NVRAM  up                    up      \n",
      "Switch#sh line\n",
      "   Tty Typ     Tx/Rx    A Modem  Roty AccO AccI   Uses   Noise  Overruns   Int\n",
      "     0 CTY              -    -      -    -    -      0       0     0/0       -\n",
      "     1 AUX   9600/9600  -    -      -    -    -      0       0     0/0       -\n",
      "*    2 VTY              -    -      -    -    -     78       0     0/0       -\n",
      "     3 VTY              -    -      -    -    -     10       0     0/0       -\n",
      "     4 VTY              -    -      -    -    -      0       0     0/0       -\n",
      "     5 VTY              -    -      -    -    -      0       0     0/0       -\n",
      "     6 VTY              -    -      -    -    -      0       0     0/0       -\n",
      "\n",
      "Switch#\n"
     ]
    }
   ],
   "source": [
    "from netmiko import ConnectHandler\n",
    "from datetime import datetime\n",
    "import os\n",
    "import time\n",
    "import csv\n",
    "\n",
    "Devices_info = \"test_devices.csv\"\n",
    "config_commands=['exit','sh ip int brief ','sh line']\n",
    "with open(Devices_info) as f:\n",
    "    Devices=[]\n",
    "    Devices_reader = csv.DictReader(f)    \n",
    "    for Device in Devices_reader:\n",
    "        net_connect = ConnectHandler(**Device)\n",
    "        output = net_connect.send_config_set(config_commands)\n",
    "        print(output)\n",
    "        net_connect.disconnect()\n"
   ]
  }
 ],
 "metadata": {
  "kernelspec": {
   "display_name": "Python 3",
   "language": "python",
   "name": "python3"
  },
  "language_info": {
   "codemirror_mode": {
    "name": "ipython",
    "version": 3
   },
   "file_extension": ".py",
   "mimetype": "text/x-python",
   "name": "python",
   "nbconvert_exporter": "python",
   "pygments_lexer": "ipython3",
   "version": "3.6.3"
  }
 },
 "nbformat": 4,
 "nbformat_minor": 2
}
