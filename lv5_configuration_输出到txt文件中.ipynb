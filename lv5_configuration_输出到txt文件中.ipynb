{
 "cells": [
  {
   "cell_type": "markdown",
   "metadata": {},
   "source": [
    "**1需要增加输出log功能**   \n",
    "\n",
    "**2目前效率很低,**    \n",
    "\n",
    "**3增加command功能**   完成\n"
   ]
  },
  {
   "cell_type": "markdown",
   "metadata": {},
   "source": [
    "1增加输出log功能,第一步,输出到txt文件中. 完成\n",
    "\n",
    "2输出到文件夹中"
   ]
  },
  {
   "cell_type": "code",
   "execution_count": 64,
   "metadata": {
    "scrolled": true
   },
   "outputs": [
    {
     "name": "stdout",
     "output_type": "stream",
     "text": [
      "SSH connection established to 192.168.123.22:22\n",
      "Interactive SSH session established\n",
      "SSH connection established to 192.168.123.23:22\n",
      "Interactive SSH session established\n"
     ]
    }
   ],
   "source": [
    "from netmiko import ConnectHandler\n",
    "from datetime import datetime\n",
    "import sys\n",
    "import time\n",
    "import csv\n",
    "\n",
    "\n",
    "all_log = str(all_log)\n",
    "Devices_info = \"test_devices.csv\"\n",
    "config_commands=['exit','sh run ','sh config','sh ver','sh inv','sh clock','sh log']\n",
    "\n",
    "\n",
    "with open(Devices_info) as f:\n",
    "    Devices=[]\n",
    "    Devices_reader = csv.DictReader(f)    \n",
    "    for Device in Devices_reader:\n",
    "        net_connect = ConnectHandler(**Device)\n",
    "        output = net_connect.send_config_set(config_commands)\n",
    "        #print(output)\n",
    "        all_log = all_log + output\n",
    "        \n",
    "        net_connect.disconnect()\n",
    "        \n",
    "        \n",
    "#创建并写入txt\n",
    "log_txt_name= \"log.txt\"\n",
    "with open(log_txt_name,'w') as log_txt:\n",
    "    log_txt.write(str(all_log))"
   ]
  },
  {
   "cell_type": "code",
   "execution_count": 63,
   "metadata": {
    "collapsed": true
   },
   "outputs": [],
   "source": [
    "#创建txt\n",
    "log_txt_name= \"log.txt\"\n",
    "with open(log_txt_name,'w') as log_txt:\n",
    "    log_txt.write(str(all_log))"
   ]
  },
  {
   "cell_type": "code",
   "execution_count": 58,
   "metadata": {
    "collapsed": true
   },
   "outputs": [],
   "source": []
  },
  {
   "cell_type": "code",
   "execution_count": null,
   "metadata": {
    "collapsed": true
   },
   "outputs": [],
   "source": []
  },
  {
   "cell_type": "code",
   "execution_count": null,
   "metadata": {
    "collapsed": true
   },
   "outputs": [],
   "source": []
  },
  {
   "cell_type": "code",
   "execution_count": null,
   "metadata": {
    "collapsed": true
   },
   "outputs": [],
   "source": []
  },
  {
   "cell_type": "code",
   "execution_count": null,
   "metadata": {
    "collapsed": true
   },
   "outputs": [],
   "source": []
  },
  {
   "cell_type": "code",
   "execution_count": null,
   "metadata": {
    "collapsed": true
   },
   "outputs": [],
   "source": []
  },
  {
   "cell_type": "code",
   "execution_count": null,
   "metadata": {
    "collapsed": true
   },
   "outputs": [],
   "source": []
  },
  {
   "cell_type": "code",
   "execution_count": null,
   "metadata": {
    "collapsed": true
   },
   "outputs": [],
   "source": []
  },
  {
   "cell_type": "code",
   "execution_count": null,
   "metadata": {
    "collapsed": true
   },
   "outputs": [],
   "source": []
  },
  {
   "cell_type": "code",
   "execution_count": null,
   "metadata": {
    "collapsed": true
   },
   "outputs": [],
   "source": []
  },
  {
   "cell_type": "code",
   "execution_count": null,
   "metadata": {
    "collapsed": true
   },
   "outputs": [],
   "source": []
  },
  {
   "cell_type": "code",
   "execution_count": 15,
   "metadata": {
    "scrolled": true
   },
   "outputs": [
    {
     "name": "stdout",
     "output_type": "stream",
     "text": [
      "\n",
      "\n",
      "开始时间: 2018-06-11 20:29:18.971869\n",
      ">>>>>>>>>ip 192.168.123.22 <<<<<<<<<\n",
      "Interface                  IP-Address      OK? Method Status                Protocol\n",
      "Ethernet0/0                192.168.123.22  YES NVRAM  up                    up      \n",
      "Ethernet0/1                1.1.1.2         YES NVRAM  up                    up      \n",
      "Ethernet0/2                unassigned      YES NVRAM  administratively down down    \n",
      "Ethernet0/3                unassigned      YES NVRAM  administratively down down    \n",
      "Loopback0                  2.2.2.2         YES manual administratively down down    \n",
      ">>>>>>>>> End <<<<<<<<<结束时间: 2018-06-11 20:29:24.237377\n",
      "\n",
      "\n",
      "开始时间: 2018-06-11 20:29:26.438837\n",
      ">>>>>>>>>ip 192.168.123.23 <<<<<<<<<\n",
      "Interface              IP-Address      OK? Method Status                Protocol\n",
      "Ethernet0/0            unassigned      YES unset  up                    up      \n",
      "Ethernet0/1            unassigned      YES unset  up                    up      \n",
      "Ethernet0/2            unassigned      YES unset  up                    up      \n",
      "Ethernet0/3            unassigned      YES unset  up                    up      \n",
      "Vlan1                  192.168.123.23  YES NVRAM  up                    up      \n",
      ">>>>>>>>> End <<<<<<<<<结束时间: 2018-06-11 20:29:31.688334\n",
      "总计耗时: 0:00:14.919925\n"
     ]
    }
   ],
   "source": [
    "from netmiko import ConnectHandler\n",
    "from datetime import datetime\n",
    "import os\n",
    "import time\n",
    "import csv\n",
    "a_command=[\"sh ip int brief\"]\n",
    "#LogTimestart = time.strftime('%Y/%m/%d %H:%M:%S')\n",
    "filename = \"test.csv\"\n",
    "a_start_time = datetime.now()  \n",
    "#for循环中,直接sshfilename = 'test.csv'\n",
    "with open(filename) as f:    \n",
    "    reader = csv.reader(f)\n",
    "    head_row = next(reader) #从第一行开始输出\n",
    "    for row in reader: \n",
    "        start_time = datetime.now()     \n",
    "        #print(row)\n",
    "        a_device=[]\n",
    "        info_dict={'device_type':str(row[5]),\n",
    "                   'ip':str(row[2]),\n",
    "                   'username':str(row[6]),\n",
    "                   'password':str(row[7]),\n",
    "                   'port':str(row[4]),\n",
    "                   'secret':str(row[8]),} \n",
    "        #print(info_dict) 你 \n",
    "        net_connect = ConnectHandler(**info_dict)\n",
    "        for command in a_command:\n",
    "            output = net_connect.send_command(str(command))\n",
    "            e_end_time = datetime.now() \n",
    "            print (\"\\n\\n开始时间:\",str(start_time))\n",
    "            print (\">>>>>>>>>ip {0} <<<<<<<<<\".format(info_dict['ip']))\n",
    "            print (output)\n",
    "            print (\">>>>>>>>> End <<<<<<<<<\"+\"结束时间:\",str(e_end_time))\n",
    "            net_connect.disconnect()\n",
    "    f.close()\n",
    "e_end_time = datetime.now() \n",
    "print(\"总计耗时:\",e_end_time - a_start_time)"
   ]
  }
 ],
 "metadata": {
  "kernelspec": {
   "display_name": "Python 3",
   "language": "python",
   "name": "python3"
  },
  "language_info": {
   "codemirror_mode": {
    "name": "ipython",
    "version": 3
   },
   "file_extension": ".py",
   "mimetype": "text/x-python",
   "name": "python",
   "nbconvert_exporter": "python",
   "pygments_lexer": "ipython3",
   "version": "3.6.3"
  }
 },
 "nbformat": 4,
 "nbformat_minor": 2
}
