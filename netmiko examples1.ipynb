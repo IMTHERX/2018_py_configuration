{
 "cells": [
  {
   "cell_type": "code",
   "execution_count": 2,
   "metadata": {},
   "outputs": [],
   "source": [
    "from netmiko import ConnectHandler"
   ]
  },
  {
   "cell_type": "code",
   "execution_count": 3,
   "metadata": {
    "collapsed": true
   },
   "outputs": [],
   "source": [
    "#创建一个表示设备的字典。\n",
    "cisco = {\n",
    "    'device_type': 'cisco_ios',\n",
    "    'ip':'192.168.123.22',\n",
    "    'username': 'cisco',\n",
    "    'password': 'cisco',\n",
    "    'port' : '22',          # optional, defaults to 22\n",
    "    'secret': 'enable',     # optional, defaults to ''\n",
    "    'verbose': False,       # optional, defaults to False\n",
    "}"
   ]
  },
  {
   "cell_type": "code",
   "execution_count": 4,
   "metadata": {
    "collapsed": true,
    "scrolled": true
   },
   "outputs": [],
   "source": [
    "#通过传入设备字典，建立到设备的SSH连接。\n",
    "net_connect = ConnectHandler(**cisco)"
   ]
  },
  {
   "cell_type": "code",
   "execution_count": 6,
   "metadata": {
    "scrolled": true
   },
   "outputs": [
    {
     "name": "stdout",
     "output_type": "stream",
     "text": [
      "Interface                  IP-Address      OK? Method Status                Protocol\n",
      "Ethernet0/0                192.168.123.22  YES NVRAM  up                    up      \n",
      "Ethernet0/1                1.1.1.2         YES NVRAM  up                    up      \n",
      "Ethernet0/2                unassigned      YES NVRAM  administratively down down    \n",
      "Ethernet0/3                unassigned      YES NVRAM  administratively down down    \n"
     ]
    }
   ],
   "source": [
    "command_man=\"sh ip int brief\"\n",
    "output = net_connect.send_command(command_man)\n",
    "print(output)"
   ]
  },
  {
   "cell_type": "code",
   "execution_count": 92,
   "metadata": {},
   "outputs": [
    {
     "data": {
      "text/plain": [
       "'Building configuration...\\n[OK]'"
      ]
     },
     "execution_count": 92,
     "metadata": {},
     "output_type": "execute_result"
    }
   ],
   "source": [
    "#对于长时间运行的命令，请使用send_command_expect()\n",
    "#send_command_expect 等待尾随提示符（或可选模式）\n",
    "net_connect.send_command_expect('write memory')\n"
   ]
  },
  {
   "cell_type": "code",
   "execution_count": 98,
   "metadata": {},
   "outputs": [
    {
     "data": {
      "text/plain": [
       "''"
      ]
     },
     "execution_count": 98,
     "metadata": {},
     "output_type": "execute_result"
    }
   ],
   "source": [
    "# 进入和退出enable模式。\n",
    "net_connect.enable()\n",
    "#net_connect.exit_enable_mode()"
   ]
  },
  {
   "cell_type": "code",
   "execution_count": 99,
   "metadata": {},
   "outputs": [
    {
     "name": "stdout",
     "output_type": "stream",
     "text": [
      "config term\n",
      "Enter configuration commands, one per line.  End with CNTL/Z.\n",
      "r1(config)#logging buffered 20000\n",
      "r1(config)#logging buffered 20010\n",
      "r1(config)#no logging console\n",
      "r1(config)#end\n",
      "r1#\n"
     ]
    }
   ],
   "source": [
    "#执行配置变更命令（将自动进入配置模式）\n",
    "config_commands = [ 'logging buffered 20000',\n",
    "                    'logging buffered 20010',\n",
    "                    'no logging console' ]\n",
    "output = net_connect.send_config_set(config_commands)\n",
    "print(output)"
   ]
  },
  {
   "cell_type": "code",
   "execution_count": null,
   "metadata": {
    "collapsed": true
   },
   "outputs": [],
   "source": []
  }
 ],
 "metadata": {
  "kernelspec": {
   "display_name": "Python 3",
   "language": "python",
   "name": "python3"
  },
  "language_info": {
   "codemirror_mode": {
    "name": "ipython",
    "version": 3
   },
   "file_extension": ".py",
   "mimetype": "text/x-python",
   "name": "python",
   "nbconvert_exporter": "python",
   "pygments_lexer": "ipython3",
   "version": "3.6.3"
  }
 },
 "nbformat": 4,
 "nbformat_minor": 2
}
