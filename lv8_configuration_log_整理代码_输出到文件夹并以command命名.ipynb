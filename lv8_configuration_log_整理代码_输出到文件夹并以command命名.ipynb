{
 "cells": [
  {
   "cell_type": "markdown",
   "metadata": {},
   "source": [
    "**1需要增加输出log功能**   \n",
    "\n",
    "**2目前效率很低,**    \n",
    "\n",
    "**3增加command功能**   完成\n"
   ]
  },
  {
   "cell_type": "markdown",
   "metadata": {},
   "source": [
    "1增加输出log功能,第一步,输出到文件中. 完成\n",
    "\n",
    "2输出到文件夹中 完成\n",
    "\n",
    "3.以各命令行分别命名文件夹"
   ]
  },
  {
   "cell_type": "code",
   "execution_count": 7,
   "metadata": {
    "scrolled": true
   },
   "outputs": [
    {
     "name": "stdout",
     "output_type": "stream",
     "text": [
      "20180612_0010_log 创建成功\n",
      "SSH connection established to 192.168.123.22:22\n",
      "Interactive SSH session established\n",
      "SSH connection established to 192.168.123.23:22\n",
      "Interactive SSH session established\n"
     ]
    }
   ],
   "source": [
    "from netmiko import ConnectHandler\n",
    "from datetime import datetime\n",
    "import os\n",
    "import time\n",
    "import csv\n",
    "\n",
    "\"\"\"目录定义\"\"\"\n",
    "def mkdir(path):\n",
    "    # 引入模块   \n",
    "    # 去除首位空格\n",
    "    \n",
    "    path=path.strip()\n",
    "    # 去除尾部 \\ 符号\n",
    "    path=path.rstrip(\"\\\\\")\n",
    "    \n",
    "    # 判断路径是否存在\n",
    "    # 存在     True\n",
    "    # 不存在   False\n",
    "    isExists=os.path.exists(path)\n",
    " \n",
    "    # 判断结果\n",
    "    if not isExists:\n",
    "        # 如果不存在则创建目录\n",
    "        # 创建目录操作函数\n",
    "        os.makedirs(path) \n",
    " \n",
    "        print (path+' 创建成功')\n",
    "        return True\n",
    "    else:\n",
    "        # 如果目录存在则不创建，并提示目录已存在\n",
    "        print (path+' 目录已存在')\n",
    "        return False\n",
    "\n",
    "\n",
    "mkpath_name=str(datetime.now().strftime('%Y%m%d_%H%M_'))#定义要创建的目录名为日期\n",
    "mkpath=mkpath_name+\"log\"\n",
    "mkdir(mkpath) # 调用函数创建文件夹\n",
    "\n",
    "#log_path = os.chdir(mkpath)#更改文件夹路径\n",
    "\n",
    "\"\"\"main\"\"\"\n",
    "\n",
    "Devices_info = \"test_devices.csv\"\n",
    "Config_commands=['exit','sh run ','sh config','sh ver','sh inv','sh clock','sh log']\n",
    "\n",
    "os.path.dirname(os.path.dirname(os.path.abspath(mkpath)))\n",
    "\n",
    "with open(Devices_info) as f:    \n",
    "    Devices=[]\n",
    "    Devices_reader = csv.DictReader(f) \n",
    "    for Device in Devices_reader:\n",
    "        net_connect = ConnectHandler(**Device)\n",
    "        output = net_connect.send_config_set(config_commands)\n",
    "        #print(output)\n",
    "        #all_log = all_log + output\n",
    "        #创建并写入txt\n",
    "        log_txt_name = str(Device[\"ip\"])+\".txt\"\n",
    "        with open(log_txt_name,'w') as log_txt:#将log写入到txt中\n",
    "            log_txt.write(str(output))        \n",
    "        \n",
    "        net_connect.disconnect()       \n",
    "        \n",
    "        source_path='./'+ log_txt_name #原log日志名\n",
    "        remove_mkpath='./'+ mkpath+'/'+log_txt_name #移动至目标文件下及文件名\n",
    "        os.renames(source_path, remove_mkpath) #移动操作\n",
    "\n",
    "\n"
   ]
  },
  {
   "cell_type": "code",
   "execution_count": 63,
   "metadata": {
    "collapsed": true
   },
   "outputs": [],
   "source": [
    "#创建文件夹"
   ]
  },
  {
   "cell_type": "code",
   "execution_count": 45,
   "metadata": {
    "collapsed": true
   },
   "outputs": [],
   "source": [
    "from datetime import datetime\n",
    "def mkdir(path):\n",
    "    # 引入模块\n",
    "    import os\n",
    " \n",
    "    # 去除首位空格\n",
    "    path=path.strip()\n",
    "    # 去除尾部 \\ 符号\n",
    "    path=path.rstrip(\"\\\\\")\n",
    " \n",
    "    # 判断路径是否存在\n",
    "    # 存在     True\n",
    "    # 不存在   False\n",
    "    isExists=os.path.exists(path)\n",
    " \n",
    "    # 判断结果\n",
    "    if not isExists:\n",
    "        # 如果不存在则创建目录\n",
    "        # 创建目录操作函数\n",
    "        os.makedirs(path) \n",
    " \n",
    "        print (path+' 创建成功')\n",
    "        return True\n",
    "    else:\n",
    "        # 如果目录存在则不创建，并提示目录已存在\n",
    "        print (path+' 目录已存在')\n",
    "        return False\n",
    "\n",
    "#定义要创建的目录\n",
    "mkpath_name=str(datetime.now().strftime('%Y%m%d_%H%M_'))\n",
    "mkpath=mkpath_name+\"log\"\n",
    "# 调用函数\n",
    "#mkdir(mkpath)"
   ]
  },
  {
   "cell_type": "markdown",
   "metadata": {},
   "source": [
    "使用strftime函数生成格式化的日期：\n",
    "from datetime import datetime\n",
    "open(datetime.now().date().strftime('%Y%m%d')+'.txt', 'w').close()\n",
    "这样可以创建一个名为20160607.txt的文件，根据当天日期不同而不同。\n",
    "函数说明：\n",
    "strftime（...）\n",
    "按指定样式格式化时间转换成字符串。\n",
    "isoformat（...）\n",
    "将时间转换成字符串ISO 8601格式，YYYY-MM-DD\n",
    "格式化字符说明：\n",
    "％Y 年份以世纪为十进制数。\n",
    "％m 月份的十进制数[01,12]。\n",
    "％d 当月日为十进制数[01,31]。\n",
    "％H 小时（24小时制）作为十进制数[00,23]。\n",
    "％M 分钟的十进制数[00,59]。\n",
    "％S 其次为十进制数[00,61]。\n",
    "％z 时区与UTC的偏移。\n",
    "％a 本机格式的缩写工作日名称。\n",
    "％A 本机格式的完整周日名称。\n",
    "％b 本机格式的缩写月份名称。\n",
    "％B 本机格式的完整月份名称。\n",
    "％c 本机格式的适当的日期和时间表示。\n",
    "％I 小时（12小时制）作为十进制数[01,12]。\n",
    "％p 对语言环境的等同无论是上午或下午。"
   ]
  },
  {
   "cell_type": "code",
   "execution_count": 33,
   "metadata": {
    "collapsed": true
   },
   "outputs": [],
   "source": [
    "open(datetime.now().date().strftime('%Y%m%d%H%M'), 'w').close()"
   ]
  },
  {
   "cell_type": "code",
   "execution_count": null,
   "metadata": {
    "collapsed": true
   },
   "outputs": [],
   "source": [
    "datetime.hour"
   ]
  },
  {
   "cell_type": "code",
   "execution_count": 34,
   "metadata": {},
   "outputs": [
    {
     "name": "stdout",
     "output_type": "stream",
     "text": [
      "201806110000\n"
     ]
    }
   ],
   "source": [
    "mkpath_name=str(datetime.now().date().strftime('%Y%m%d%H%M'))\n",
    "print(mkpath_name)\n"
   ]
  },
  {
   "cell_type": "code",
   "execution_count": null,
   "metadata": {
    "collapsed": true
   },
   "outputs": [],
   "source": [
    "#Config_commands = \"test_commands.csv\"\n",
    "def Config_Commands_Path(Config_commands):\n",
    "    Command=[]\n",
    "    with open(Config_commands) as Config_commands_file:    \n",
    "        Command_Reader = csv.DictReader(Config_commands_file) \n",
    "        Command = Command + Command_Reader\n",
    "    return Command\n",
    "Config_Commands_Path(test_commands.csv):"
   ]
  },
  {
   "cell_type": "code",
   "execution_count": 74,
   "metadata": {},
   "outputs": [
    {
     "name": "stdout",
     "output_type": "stream",
     "text": [
      "20180611_2328_log 创建成功\n"
     ]
    }
   ],
   "source": []
  },
  {
   "cell_type": "code",
   "execution_count": null,
   "metadata": {
    "collapsed": true
   },
   "outputs": [],
   "source": []
  },
  {
   "cell_type": "code",
   "execution_count": null,
   "metadata": {
    "collapsed": true
   },
   "outputs": [],
   "source": []
  },
  {
   "cell_type": "code",
   "execution_count": null,
   "metadata": {
    "collapsed": true
   },
   "outputs": [],
   "source": []
  },
  {
   "cell_type": "code",
   "execution_count": null,
   "metadata": {
    "collapsed": true
   },
   "outputs": [],
   "source": []
  },
  {
   "cell_type": "code",
   "execution_count": null,
   "metadata": {
    "collapsed": true
   },
   "outputs": [],
   "source": []
  },
  {
   "cell_type": "code",
   "execution_count": 15,
   "metadata": {
    "scrolled": true
   },
   "outputs": [
    {
     "name": "stdout",
     "output_type": "stream",
     "text": [
      "\n",
      "\n",
      "开始时间: 2018-06-11 20:29:18.971869\n",
      ">>>>>>>>>ip 192.168.123.22 <<<<<<<<<\n",
      "Interface                  IP-Address      OK? Method Status                Protocol\n",
      "Ethernet0/0                192.168.123.22  YES NVRAM  up                    up      \n",
      "Ethernet0/1                1.1.1.2         YES NVRAM  up                    up      \n",
      "Ethernet0/2                unassigned      YES NVRAM  administratively down down    \n",
      "Ethernet0/3                unassigned      YES NVRAM  administratively down down    \n",
      "Loopback0                  2.2.2.2         YES manual administratively down down    \n",
      ">>>>>>>>> End <<<<<<<<<结束时间: 2018-06-11 20:29:24.237377\n",
      "\n",
      "\n",
      "开始时间: 2018-06-11 20:29:26.438837\n",
      ">>>>>>>>>ip 192.168.123.23 <<<<<<<<<\n",
      "Interface              IP-Address      OK? Method Status                Protocol\n",
      "Ethernet0/0            unassigned      YES unset  up                    up      \n",
      "Ethernet0/1            unassigned      YES unset  up                    up      \n",
      "Ethernet0/2            unassigned      YES unset  up                    up      \n",
      "Ethernet0/3            unassigned      YES unset  up                    up      \n",
      "Vlan1                  192.168.123.23  YES NVRAM  up                    up      \n",
      ">>>>>>>>> End <<<<<<<<<结束时间: 2018-06-11 20:29:31.688334\n",
      "总计耗时: 0:00:14.919925\n"
     ]
    }
   ],
   "source": [
    "from netmiko import ConnectHandler\n",
    "from datetime import datetime\n",
    "import os\n",
    "import time\n",
    "import csv\n",
    "a_command=[\"sh ip int brief\"]\n",
    "#LogTimestart = time.strftime('%Y/%m/%d %H:%M:%S')\n",
    "filename = \"test.csv\"\n",
    "a_start_time = datetime.now()  \n",
    "#for循环中,直接sshfilename = 'test.csv'\n",
    "with open(filename) as f:    \n",
    "    reader = csv.reader(f)\n",
    "    head_row = next(reader) #从第一行开始输出\n",
    "    for row in reader: \n",
    "        start_time = datetime.now()     \n",
    "        #print(row)\n",
    "        a_device=[]\n",
    "        info_dict={'device_type':str(row[5]),\n",
    "                   'ip':str(row[2]),\n",
    "                   'username':str(row[6]),\n",
    "                   'password':str(row[7]),\n",
    "                   'port':str(row[4]),\n",
    "                   'secret':str(row[8]),} \n",
    "        #print(info_dict) 你 \n",
    "        net_connect = ConnectHandler(**info_dict)\n",
    "        for command in a_command:\n",
    "            output = net_connect.send_command(str(command))\n",
    "            e_end_time = datetime.now() \n",
    "            print (\"\\n\\n开始时间:\",str(start_time))\n",
    "            print (\">>>>>>>>>ip {0} <<<<<<<<<\".format(info_dict['ip']))\n",
    "            print (output)\n",
    "            print (\">>>>>>>>> End <<<<<<<<<\"+\"结束时间:\",str(e_end_time))\n",
    "            net_connect.disconnect()\n",
    "    f.close()\n",
    "e_end_time = datetime.now() \n",
    "print(\"总计耗时:\",e_end_time - a_start_time)"
   ]
  }
 ],
 "metadata": {
  "kernelspec": {
   "display_name": "Python 3",
   "language": "python",
   "name": "python3"
  },
  "language_info": {
   "codemirror_mode": {
    "name": "ipython",
    "version": 3
   },
   "file_extension": ".py",
   "mimetype": "text/x-python",
   "name": "python",
   "nbconvert_exporter": "python",
   "pygments_lexer": "ipython3",
   "version": "3.6.3"
  }
 },
 "nbformat": 4,
 "nbformat_minor": 2
}
